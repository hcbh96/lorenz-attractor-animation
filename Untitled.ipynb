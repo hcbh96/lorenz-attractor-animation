{
 "cells": [
  {
   "cell_type": "markdown",
   "metadata": {},
   "source": [
    "# A breakdown of chaotic maps\n",
    "\n",
    "In this pience I will go thought various famous models of equations that display chaotic behavior.\n",
    "\n",
    "## Lorenz System\n",
    "\n",
    "In 1963, Edward Lorenx developed a simple model for the movement of air in the atmosphere. The models contained three differential equations one for each cartesian dimension.\n",
    "\n",
    "$$\n",
    "\\frac{dx}{dt} = \\sigma(y-x) \\\\\n",
    "\\frac{dy}{dt} = x(p-z)-y \\\\\n",
    "\\frac{dz}{dt} = xy-\\beta z \\\\\n",
    "$$\n",
    "\n",
    "This set of differential equations is known as the Lorenz System. Around certain parameter values the Lorenz sysem displays chaotic behavior. \n",
    "The equations relate the properties of a two-dimensional fluid layer uniformly warmed from below and cooled from above. In particular, the equations describe the rate of change of three quantities with respect to time: $x$ is proportional to the rate of convection, $y$ to the horizontal temperature variation, and $z$ to the vertical temperature variation. The constants $\\sigma$, $\\rho$, and $\\beta$  are system parameters proportional to the Prandtl number, Rayleigh number, and certain physical dimensions of the layer itself.\n",
    "\n",
    "The Lorenz equations also arise in simplified models for lasers, dynamos, thermosyphons, brushless DC motors, electric circuits, chemical reactions and forward osmosis. The Lorenz equations are also the governing equations in Fourier space for the Malkus waterwheel. The Malkus waterwheel exhibits chaotic motion where instead of spinning in one direction at a constant speed, its rotation will speed up, slow down, stop, change directions, and oscillate back and forth between combinations of such behaviors in an unpredictable manner.\n",
    "\n",
    "From a technical standpoint, the Lorenz system is nonlinear, non-periodic, three-dimensional and deterministic.\n",
    "\n",
    "The following animation depicts the systems behavior over time.\n",
    "\n",
    "![SegmentLocal](animations/lorenz-attractor/images/lorenz_animation.gif \"segment\")\n",
    "\n",
    "The term \"butterfly effect\" stems from the real-world implications of the Lorenz attractor. This underscores that physical systems can be completely deterministic and yet still be inherently unpredictable even in the absence of quantum effects.\n",
    "\n",
    "\n",
    "## Arnold's Tongue\n",
    "\n",
    "## Van der Pol Oscillator\n",
    "\n",
    "## Duffing Equation\n",
    "\n",
    "## Dyadic transformation\n",
    "\n",
    "## Bernouilli Process\n",
    "\n",
    "## Exponential Map\n",
    "\n",
    "## Gauss Map\n",
    "\n",
    "## Gingerbreadman Map\n",
    "\n",
    "## Hadley Circulation\n",
    "\n",
    "## Hénon Map\n",
    "\n",
    "## Horseshoe Map\n",
    "\n",
    "## Ideka Map\n",
    "\n",
    "## Logistic Map (Star)\n",
    "\n",
    "## Lotka-Volterra Equations (Star)\n",
    "\n",
    "## Rayleigh-Bérnard Convection\n",
    "\n",
    "## Rössler Attractor\n",
    "\n",
    "## Kicked Rotator\n",
    "\n",
    "## Thomas' Cyclical Symmetric Attractor\n",
    "\n",
    "## Tent Map\n",
    "\n",
    "## Tinkerbell Map\n"
   ]
  },
  {
   "cell_type": "code",
   "execution_count": 71,
   "metadata": {},
   "outputs": [],
   "source": []
  },
  {
   "cell_type": "code",
   "execution_count": null,
   "metadata": {},
   "outputs": [],
   "source": []
  },
  {
   "cell_type": "code",
   "execution_count": 21,
   "metadata": {},
   "outputs": [],
   "source": []
  },
  {
   "cell_type": "code",
   "execution_count": 31,
   "metadata": {},
   "outputs": [],
   "source": []
  },
  {
   "cell_type": "code",
   "execution_count": 32,
   "metadata": {},
   "outputs": [],
   "source": []
  },
  {
   "cell_type": "code",
   "execution_count": 33,
   "metadata": {},
   "outputs": [],
   "source": []
  },
  {
   "cell_type": "code",
   "execution_count": 63,
   "metadata": {},
   "outputs": [],
   "source": []
  },
  {
   "cell_type": "code",
   "execution_count": 64,
   "metadata": {},
   "outputs": [],
   "source": []
  },
  {
   "cell_type": "code",
   "execution_count": 65,
   "metadata": {},
   "outputs": [],
   "source": []
  },
  {
   "cell_type": "code",
   "execution_count": 66,
   "metadata": {},
   "outputs": [],
   "source": []
  },
  {
   "cell_type": "code",
   "execution_count": 67,
   "metadata": {},
   "outputs": [],
   "source": []
  },
  {
   "cell_type": "code",
   "execution_count": 72,
   "metadata": {},
   "outputs": [],
   "source": []
  },
  {
   "cell_type": "code",
   "execution_count": null,
   "metadata": {},
   "outputs": [],
   "source": []
  }
 ],
 "metadata": {
  "kernelspec": {
   "display_name": "Python 3",
   "language": "python",
   "name": "python3"
  },
  "language_info": {
   "codemirror_mode": {
    "name": "ipython",
    "version": 3
   },
   "file_extension": ".py",
   "mimetype": "text/x-python",
   "name": "python",
   "nbconvert_exporter": "python",
   "pygments_lexer": "ipython3",
   "version": "3.9.5"
  }
 },
 "nbformat": 4,
 "nbformat_minor": 4
}
